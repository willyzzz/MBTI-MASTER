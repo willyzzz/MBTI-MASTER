{
  "cells": [
    {
      "cell_type": "code",
      "execution_count": null,
      "metadata": {
        "colab": {
          "base_uri": "https://localhost:8080/"
        },
        "id": "xXDIFAurFXcg",
        "outputId": "e4f28783-fdca-4e67-8cf4-d68aac84eeab"
      },
      "outputs": [
        {
          "output_type": "stream",
          "name": "stdout",
          "text": [
            "Requirement already satisfied: pandas==1.3.2 in /usr/local/lib/python3.7/dist-packages (1.3.2)\n",
            "Requirement already satisfied: pytz>=2017.3 in /usr/local/lib/python3.7/dist-packages (from pandas==1.3.2) (2018.9)\n",
            "Requirement already satisfied: numpy>=1.17.3 in /usr/local/lib/python3.7/dist-packages (from pandas==1.3.2) (1.21.5)\n",
            "Requirement already satisfied: python-dateutil>=2.7.3 in /usr/local/lib/python3.7/dist-packages (from pandas==1.3.2) (2.8.2)\n",
            "Requirement already satisfied: six>=1.5 in /usr/local/lib/python3.7/dist-packages (from python-dateutil>=2.7.3->pandas==1.3.2) (1.15.0)\n"
          ]
        }
      ],
      "source": [
        "!pip install pandas==1.3.2"
      ]
    },
    {
      "cell_type": "code",
      "execution_count": null,
      "metadata": {
        "colab": {
          "base_uri": "https://localhost:8080/",
          "height": 1000
        },
        "id": "XiBSRdBmG1R-",
        "outputId": "286c8bf7-b8b0-4868-a285-7b903d93ae22"
      },
      "outputs": [
        {
          "output_type": "stream",
          "name": "stdout",
          "text": [
            "\n",
            "INSTALLED VERSIONS\n",
            "------------------\n",
            "commit           : 5f648bf1706dd75a9ca0d29f26eadfbb595fe52b\n",
            "python           : 3.7.13.final.0\n",
            "python-bits      : 64\n",
            "OS               : Linux\n",
            "OS-release       : 5.4.144+\n",
            "Version          : #1 SMP Tue Dec 7 09:58:10 PST 2021\n",
            "machine          : x86_64\n",
            "processor        : x86_64\n",
            "byteorder        : little\n",
            "LC_ALL           : None\n",
            "LANG             : en_US.UTF-8\n",
            "LOCALE           : en_US.UTF-8\n",
            "\n",
            "pandas           : 1.3.2\n",
            "numpy            : 1.21.5\n",
            "pytz             : 2018.9\n",
            "dateutil         : 2.8.2\n",
            "pip              : 21.1.3\n",
            "setuptools       : 57.4.0\n",
            "Cython           : 0.29.28\n",
            "pytest           : 3.6.4\n",
            "hypothesis       : None\n",
            "sphinx           : 1.8.6\n",
            "blosc            : None\n",
            "feather          : 0.4.1\n",
            "xlsxwriter       : None\n",
            "lxml.etree       : 4.2.6\n",
            "html5lib         : 1.0.1\n",
            "pymysql          : None\n",
            "psycopg2         : 2.7.6.1 (dt dec pq3 ext lo64)\n",
            "jinja2           : 2.11.3\n",
            "IPython          : 5.5.0\n",
            "pandas_datareader: 0.9.0\n",
            "bs4              : 4.6.3\n",
            "bottleneck       : 1.3.4\n",
            "fsspec           : None\n",
            "fastparquet      : None\n",
            "gcsfs            : None\n",
            "matplotlib       : 3.2.2\n",
            "numexpr          : 2.8.1\n",
            "odfpy            : None\n",
            "openpyxl         : 3.0.9\n",
            "pandas_gbq       : 0.13.3\n",
            "pyarrow          : 6.0.1\n",
            "pyxlsb           : None\n",
            "s3fs             : None\n",
            "scipy            : 1.4.1\n",
            "sqlalchemy       : 1.4.32\n",
            "tables           : 3.7.0\n",
            "tabulate         : 0.8.9\n",
            "xarray           : 0.18.2\n",
            "xlrd             : 1.1.0\n",
            "xlwt             : 1.3.0\n",
            "numba            : 0.51.2\n"
          ]
        },
        {
          "output_type": "execute_result",
          "data": {
            "text/plain": [
              "'1.3.2'"
            ],
            "application/vnd.google.colaboratory.intrinsic+json": {
              "type": "string"
            }
          },
          "metadata": {},
          "execution_count": 26
        }
      ],
      "source": [
        "import pandas as pd\n",
        "\n",
        "pd.show_versions()\n",
        "\n",
        "pd.__version__"
      ]
    },
    {
      "cell_type": "code",
      "execution_count": null,
      "metadata": {
        "colab": {
          "base_uri": "https://localhost:8080/"
        },
        "id": "Ya4nCgG41Tm4",
        "outputId": "6cedd1f6-3dcd-4f6c-8c2d-e24a14876685"
      },
      "outputs": [
        {
          "output_type": "stream",
          "name": "stdout",
          "text": [
            "Drive already mounted at /content/drive; to attempt to forcibly remount, call drive.mount(\"/content/drive\", force_remount=True).\n"
          ]
        }
      ],
      "source": [
        "from google.colab import drive\n",
        "drive.mount('/content/drive')"
      ]
    },
    {
      "cell_type": "code",
      "execution_count": null,
      "metadata": {
        "id": "fHZx3_RiG7wb"
      },
      "outputs": [],
      "source": [
        "import csv\n",
        "import pandas as pd\n",
        "df = pd.read_csv('drive/MyDrive/lower_data1.csv')"
      ]
    },
    {
      "cell_type": "code",
      "execution_count": null,
      "metadata": {
        "id": "eMUTugAJFhOS"
      },
      "outputs": [],
      "source": [
        "import numpy as np\n",
        "import pandas as pd\n",
        "import pickle\n",
        "from collections import defaultdict\n",
        "import re\n",
        "from bs4 import BeautifulSoup\n",
        "import sys\n",
        "import os\n",
        "os.environ['KERAS_BACKEND']='theano'\n",
        "from keras.preprocessing.text import Tokenizer\n",
        "from keras.preprocessing.sequence import pad_sequences\n",
        "from keras.utils.np_utils import to_categorical\n",
        "from keras.layers import Embedding\n",
        "from keras.layers import Dense, Input, Flatten\n",
        "from keras.layers import Conv1D, MaxPooling1D, Embedding, Dropout, LSTM, GRU, Bidirectional\n",
        "from keras.models import Model\n",
        "from keras.callbacks import ModelCheckpoint\n",
        "import matplotlib.pyplot as plt\n",
        "plt.switch_backend('agg')\n",
        "from keras import backend as K\n",
        "from tensorflow.keras.layers import Layer, InputSpec\n",
        "from keras import initializers\n",
        "%matplotlib inline"
      ]
    },
    {
      "cell_type": "code",
      "execution_count": null,
      "metadata": {
        "id": "FMMZoBf5J1Th"
      },
      "outputs": [],
      "source": [
        "def clean_str(string):\n",
        "    string = re.sub(r\"\\\\\", \"\", string)\n",
        "    string = re.sub(r\"\\'\", \"\", string)\n",
        "    string = re.sub(r\"\\\"\", \"\", string)\n",
        "    return string.strip().lower()"
      ]
    },
    {
      "cell_type": "code",
      "execution_count": null,
      "metadata": {
        "id": "xovVXTjFKLU8"
      },
      "outputs": [],
      "source": [
        "MAX_SEQUENCE_LENGTH = 1000\n",
        "MAX_NB_WORDS = 20000\n",
        "EMBEDDING_DIM = 25\n",
        "VALIDATION_SPLIT = 0.2"
      ]
    },
    {
      "cell_type": "code",
      "execution_count": null,
      "metadata": {
        "id": "izN0c50UCvFY"
      },
      "outputs": [],
      "source": [
        "# # 随机交换\n",
        "# from random import randint, choice\n",
        "# import random\n",
        "\n",
        "# def exchange(data,num):\n",
        "      \n",
        "#     data = list(data)\n",
        "#     exchange_num = num*2\n",
        "#     while exchange_num > 0:\n",
        "#         exchange_site1 = randint(0, len(data)-1)\n",
        "#         exchange_site2 = randint(0,len(data)-1)\n",
        "#         data[exchange_site1],data[exchange_site2] = data[exchange_site2],data[exchange_site1]\n",
        "#         exchange_num -= 2\n",
        "#     return ''.join(data)\n",
        "\n",
        "# sequences_train_exchange = []\n",
        "# text = df['Text']\n",
        "# text = [text[i:i+10] for i in range(0,text.shape[0],10)]\n",
        "# for i in range(len(df['Text'])):\n",
        "#     sequences_train_exchange.append(exchange(df['Text'][i],5))\n",
        "#     df['Type'] = df['Type'] + df['Type'][i]\n",
        "#     df['IE'] = df['IE'] + df['IE'][i]\n",
        "#     df['SN'] = df['SN'] + df['SN'][i]\n",
        "#     df['FT'] = df['FT'] + df['FT'][i]\n",
        "#     df['PJ'] = df['PJ'] + df['PJ'][i]\n",
        "    \n",
        "# df['Text'] = df['Text'] + sequences_train_exchange"
      ]
    },
    {
      "cell_type": "code",
      "execution_count": null,
      "metadata": {
        "colab": {
          "base_uri": "https://localhost:8080/"
        },
        "id": "G0fj58BfKOu5",
        "outputId": "4f33689c-882b-45dc-f810-d53c6f3377e7"
      },
      "outputs": [
        {
          "output_type": "stream",
          "name": "stdout",
          "text": [
            "Shape of dataset  (23004, 10)\n",
            "Index(['Unnamed: 0', 'Name', 'Type', 'Text', 'IE', 'SN', 'FT', 'PJ', 'class',\n",
            "       'message'],\n",
            "      dtype='object')\n",
            "No. of unique classes 2\n"
          ]
        }
      ],
      "source": [
        "# reading data\n",
        "\n",
        "df = df.dropna()\n",
        "df = df.reset_index(drop=True)\n",
        "df['class'] = df['PJ']\n",
        "df['message'] = df['Text']\n",
        "print('Shape of dataset ',df.shape)\n",
        "print(df.columns)\n",
        "print('No. of unique classes',len(set(df['class'])))"
      ]
    },
    {
      "cell_type": "code",
      "execution_count": null,
      "metadata": {
        "id": "iwPHBhWXKToO"
      },
      "outputs": [],
      "source": [
        "macronum=sorted(set(df['class']))\n",
        "macro_to_id = dict((note, number) for number, note in enumerate(macronum))\n",
        "\n",
        "def fun(i):\n",
        "    return macro_to_id[i]\n",
        "\n",
        "df['class']=df['class'].apply(fun)"
      ]
    },
    {
      "cell_type": "code",
      "source": [
        "df"
      ],
      "metadata": {
        "colab": {
          "base_uri": "https://localhost:8080/",
          "height": 658
        },
        "id": "O5GmdME0MyKa",
        "outputId": "692ada93-b610-48e4-ab4e-a60f342ee0b5"
      },
      "execution_count": null,
      "outputs": [
        {
          "output_type": "execute_result",
          "data": {
            "text/plain": [
              "       Unnamed: 0                Name  Type  \\\n",
              "0               0       Sasuke Uchiha  ISFP   \n",
              "1               1       Sasuke Uchiha  INTJ   \n",
              "2               2       Sasuke Uchiha  INTJ   \n",
              "3               3       Sasuke Uchiha  ISFP   \n",
              "4               4       Sasuke Uchiha  INTJ   \n",
              "...           ...                 ...   ...   \n",
              "22999       22999  Aisha (Lord Azoth)  ENTJ   \n",
              "23000       23000       Aisha / Layla  ESTP   \n",
              "23001       23001       Aisha / Layla  ISTP   \n",
              "23002       23002       Aisha / Layla  ESTP   \n",
              "23003       23003  Aisin-Gioro Hongli  ENTJ   \n",
              "\n",
              "                                                    Text IE SN FT PJ  class  \\\n",
              "0      edit not answer useless decide bring view sasu...  I  S  F  P      1   \n",
              "1      conflict sasuke type frankly distinguish emoti...  I  N  T  J      0   \n",
              "2      not sasuke selforiented main goal kill brother...  I  N  T  J      0   \n",
              "3      sasuke childhood wound relates type type not l...  I  S  F  P      1   \n",
              "4      sasuke vengeful punitive sexual not lustful pr...  I  N  T  J      0   \n",
              "...                                                  ... .. .. .. ..    ...   \n",
              "22999  hard type inside ur brain tritype legitimately...  E  N  T  J      0   \n",
              "23000  dare vote flirty person love dancin sport acti...  E  S  T  P      1   \n",
              "23001  unpopular opinion honestly not classical total...  I  S  T  P      1   \n",
              "23002  obvious season true recall childhood lot traum...  E  S  T  P      1   \n",
              "23003  dom obsess image strive emperor sacrifice love...  E  N  T  J      0   \n",
              "\n",
              "                                                 message  \n",
              "0      edit not answer useless decide bring view sasu...  \n",
              "1      conflict sasuke type frankly distinguish emoti...  \n",
              "2      not sasuke selforiented main goal kill brother...  \n",
              "3      sasuke childhood wound relates type type not l...  \n",
              "4      sasuke vengeful punitive sexual not lustful pr...  \n",
              "...                                                  ...  \n",
              "22999  hard type inside ur brain tritype legitimately...  \n",
              "23000  dare vote flirty person love dancin sport acti...  \n",
              "23001  unpopular opinion honestly not classical total...  \n",
              "23002  obvious season true recall childhood lot traum...  \n",
              "23003  dom obsess image strive emperor sacrifice love...  \n",
              "\n",
              "[23004 rows x 10 columns]"
            ],
            "text/html": [
              "\n",
              "  <div id=\"df-40dc25b3-c638-425c-8f5f-dcaacac22c26\">\n",
              "    <div class=\"colab-df-container\">\n",
              "      <div>\n",
              "<style scoped>\n",
              "    .dataframe tbody tr th:only-of-type {\n",
              "        vertical-align: middle;\n",
              "    }\n",
              "\n",
              "    .dataframe tbody tr th {\n",
              "        vertical-align: top;\n",
              "    }\n",
              "\n",
              "    .dataframe thead th {\n",
              "        text-align: right;\n",
              "    }\n",
              "</style>\n",
              "<table border=\"1\" class=\"dataframe\">\n",
              "  <thead>\n",
              "    <tr style=\"text-align: right;\">\n",
              "      <th></th>\n",
              "      <th>Unnamed: 0</th>\n",
              "      <th>Name</th>\n",
              "      <th>Type</th>\n",
              "      <th>Text</th>\n",
              "      <th>IE</th>\n",
              "      <th>SN</th>\n",
              "      <th>FT</th>\n",
              "      <th>PJ</th>\n",
              "      <th>class</th>\n",
              "      <th>message</th>\n",
              "    </tr>\n",
              "  </thead>\n",
              "  <tbody>\n",
              "    <tr>\n",
              "      <th>0</th>\n",
              "      <td>0</td>\n",
              "      <td>Sasuke Uchiha</td>\n",
              "      <td>ISFP</td>\n",
              "      <td>edit not answer useless decide bring view sasu...</td>\n",
              "      <td>I</td>\n",
              "      <td>S</td>\n",
              "      <td>F</td>\n",
              "      <td>P</td>\n",
              "      <td>1</td>\n",
              "      <td>edit not answer useless decide bring view sasu...</td>\n",
              "    </tr>\n",
              "    <tr>\n",
              "      <th>1</th>\n",
              "      <td>1</td>\n",
              "      <td>Sasuke Uchiha</td>\n",
              "      <td>INTJ</td>\n",
              "      <td>conflict sasuke type frankly distinguish emoti...</td>\n",
              "      <td>I</td>\n",
              "      <td>N</td>\n",
              "      <td>T</td>\n",
              "      <td>J</td>\n",
              "      <td>0</td>\n",
              "      <td>conflict sasuke type frankly distinguish emoti...</td>\n",
              "    </tr>\n",
              "    <tr>\n",
              "      <th>2</th>\n",
              "      <td>2</td>\n",
              "      <td>Sasuke Uchiha</td>\n",
              "      <td>INTJ</td>\n",
              "      <td>not sasuke selforiented main goal kill brother...</td>\n",
              "      <td>I</td>\n",
              "      <td>N</td>\n",
              "      <td>T</td>\n",
              "      <td>J</td>\n",
              "      <td>0</td>\n",
              "      <td>not sasuke selforiented main goal kill brother...</td>\n",
              "    </tr>\n",
              "    <tr>\n",
              "      <th>3</th>\n",
              "      <td>3</td>\n",
              "      <td>Sasuke Uchiha</td>\n",
              "      <td>ISFP</td>\n",
              "      <td>sasuke childhood wound relates type type not l...</td>\n",
              "      <td>I</td>\n",
              "      <td>S</td>\n",
              "      <td>F</td>\n",
              "      <td>P</td>\n",
              "      <td>1</td>\n",
              "      <td>sasuke childhood wound relates type type not l...</td>\n",
              "    </tr>\n",
              "    <tr>\n",
              "      <th>4</th>\n",
              "      <td>4</td>\n",
              "      <td>Sasuke Uchiha</td>\n",
              "      <td>INTJ</td>\n",
              "      <td>sasuke vengeful punitive sexual not lustful pr...</td>\n",
              "      <td>I</td>\n",
              "      <td>N</td>\n",
              "      <td>T</td>\n",
              "      <td>J</td>\n",
              "      <td>0</td>\n",
              "      <td>sasuke vengeful punitive sexual not lustful pr...</td>\n",
              "    </tr>\n",
              "    <tr>\n",
              "      <th>...</th>\n",
              "      <td>...</td>\n",
              "      <td>...</td>\n",
              "      <td>...</td>\n",
              "      <td>...</td>\n",
              "      <td>...</td>\n",
              "      <td>...</td>\n",
              "      <td>...</td>\n",
              "      <td>...</td>\n",
              "      <td>...</td>\n",
              "      <td>...</td>\n",
              "    </tr>\n",
              "    <tr>\n",
              "      <th>22999</th>\n",
              "      <td>22999</td>\n",
              "      <td>Aisha (Lord Azoth)</td>\n",
              "      <td>ENTJ</td>\n",
              "      <td>hard type inside ur brain tritype legitimately...</td>\n",
              "      <td>E</td>\n",
              "      <td>N</td>\n",
              "      <td>T</td>\n",
              "      <td>J</td>\n",
              "      <td>0</td>\n",
              "      <td>hard type inside ur brain tritype legitimately...</td>\n",
              "    </tr>\n",
              "    <tr>\n",
              "      <th>23000</th>\n",
              "      <td>23000</td>\n",
              "      <td>Aisha / Layla</td>\n",
              "      <td>ESTP</td>\n",
              "      <td>dare vote flirty person love dancin sport acti...</td>\n",
              "      <td>E</td>\n",
              "      <td>S</td>\n",
              "      <td>T</td>\n",
              "      <td>P</td>\n",
              "      <td>1</td>\n",
              "      <td>dare vote flirty person love dancin sport acti...</td>\n",
              "    </tr>\n",
              "    <tr>\n",
              "      <th>23001</th>\n",
              "      <td>23001</td>\n",
              "      <td>Aisha / Layla</td>\n",
              "      <td>ISTP</td>\n",
              "      <td>unpopular opinion honestly not classical total...</td>\n",
              "      <td>I</td>\n",
              "      <td>S</td>\n",
              "      <td>T</td>\n",
              "      <td>P</td>\n",
              "      <td>1</td>\n",
              "      <td>unpopular opinion honestly not classical total...</td>\n",
              "    </tr>\n",
              "    <tr>\n",
              "      <th>23002</th>\n",
              "      <td>23002</td>\n",
              "      <td>Aisha / Layla</td>\n",
              "      <td>ESTP</td>\n",
              "      <td>obvious season true recall childhood lot traum...</td>\n",
              "      <td>E</td>\n",
              "      <td>S</td>\n",
              "      <td>T</td>\n",
              "      <td>P</td>\n",
              "      <td>1</td>\n",
              "      <td>obvious season true recall childhood lot traum...</td>\n",
              "    </tr>\n",
              "    <tr>\n",
              "      <th>23003</th>\n",
              "      <td>23003</td>\n",
              "      <td>Aisin-Gioro Hongli</td>\n",
              "      <td>ENTJ</td>\n",
              "      <td>dom obsess image strive emperor sacrifice love...</td>\n",
              "      <td>E</td>\n",
              "      <td>N</td>\n",
              "      <td>T</td>\n",
              "      <td>J</td>\n",
              "      <td>0</td>\n",
              "      <td>dom obsess image strive emperor sacrifice love...</td>\n",
              "    </tr>\n",
              "  </tbody>\n",
              "</table>\n",
              "<p>23004 rows × 10 columns</p>\n",
              "</div>\n",
              "      <button class=\"colab-df-convert\" onclick=\"convertToInteractive('df-40dc25b3-c638-425c-8f5f-dcaacac22c26')\"\n",
              "              title=\"Convert this dataframe to an interactive table.\"\n",
              "              style=\"display:none;\">\n",
              "        \n",
              "  <svg xmlns=\"http://www.w3.org/2000/svg\" height=\"24px\"viewBox=\"0 0 24 24\"\n",
              "       width=\"24px\">\n",
              "    <path d=\"M0 0h24v24H0V0z\" fill=\"none\"/>\n",
              "    <path d=\"M18.56 5.44l.94 2.06.94-2.06 2.06-.94-2.06-.94-.94-2.06-.94 2.06-2.06.94zm-11 1L8.5 8.5l.94-2.06 2.06-.94-2.06-.94L8.5 2.5l-.94 2.06-2.06.94zm10 10l.94 2.06.94-2.06 2.06-.94-2.06-.94-.94-2.06-.94 2.06-2.06.94z\"/><path d=\"M17.41 7.96l-1.37-1.37c-.4-.4-.92-.59-1.43-.59-.52 0-1.04.2-1.43.59L10.3 9.45l-7.72 7.72c-.78.78-.78 2.05 0 2.83L4 21.41c.39.39.9.59 1.41.59.51 0 1.02-.2 1.41-.59l7.78-7.78 2.81-2.81c.8-.78.8-2.07 0-2.86zM5.41 20L4 18.59l7.72-7.72 1.47 1.35L5.41 20z\"/>\n",
              "  </svg>\n",
              "      </button>\n",
              "      \n",
              "  <style>\n",
              "    .colab-df-container {\n",
              "      display:flex;\n",
              "      flex-wrap:wrap;\n",
              "      gap: 12px;\n",
              "    }\n",
              "\n",
              "    .colab-df-convert {\n",
              "      background-color: #E8F0FE;\n",
              "      border: none;\n",
              "      border-radius: 50%;\n",
              "      cursor: pointer;\n",
              "      display: none;\n",
              "      fill: #1967D2;\n",
              "      height: 32px;\n",
              "      padding: 0 0 0 0;\n",
              "      width: 32px;\n",
              "    }\n",
              "\n",
              "    .colab-df-convert:hover {\n",
              "      background-color: #E2EBFA;\n",
              "      box-shadow: 0px 1px 2px rgba(60, 64, 67, 0.3), 0px 1px 3px 1px rgba(60, 64, 67, 0.15);\n",
              "      fill: #174EA6;\n",
              "    }\n",
              "\n",
              "    [theme=dark] .colab-df-convert {\n",
              "      background-color: #3B4455;\n",
              "      fill: #D2E3FC;\n",
              "    }\n",
              "\n",
              "    [theme=dark] .colab-df-convert:hover {\n",
              "      background-color: #434B5C;\n",
              "      box-shadow: 0px 1px 3px 1px rgba(0, 0, 0, 0.15);\n",
              "      filter: drop-shadow(0px 1px 2px rgba(0, 0, 0, 0.3));\n",
              "      fill: #FFFFFF;\n",
              "    }\n",
              "  </style>\n",
              "\n",
              "      <script>\n",
              "        const buttonEl =\n",
              "          document.querySelector('#df-40dc25b3-c638-425c-8f5f-dcaacac22c26 button.colab-df-convert');\n",
              "        buttonEl.style.display =\n",
              "          google.colab.kernel.accessAllowed ? 'block' : 'none';\n",
              "\n",
              "        async function convertToInteractive(key) {\n",
              "          const element = document.querySelector('#df-40dc25b3-c638-425c-8f5f-dcaacac22c26');\n",
              "          const dataTable =\n",
              "            await google.colab.kernel.invokeFunction('convertToInteractive',\n",
              "                                                     [key], {});\n",
              "          if (!dataTable) return;\n",
              "\n",
              "          const docLinkHtml = 'Like what you see? Visit the ' +\n",
              "            '<a target=\"_blank\" href=https://colab.research.google.com/notebooks/data_table.ipynb>data table notebook</a>'\n",
              "            + ' to learn more about interactive tables.';\n",
              "          element.innerHTML = '';\n",
              "          dataTable['output_type'] = 'display_data';\n",
              "          await google.colab.output.renderOutput(dataTable, element);\n",
              "          const docLink = document.createElement('div');\n",
              "          docLink.innerHTML = docLinkHtml;\n",
              "          element.appendChild(docLink);\n",
              "        }\n",
              "      </script>\n",
              "    </div>\n",
              "  </div>\n",
              "  "
            ]
          },
          "metadata": {},
          "execution_count": 35
        }
      ]
    },
    {
      "cell_type": "code",
      "execution_count": null,
      "metadata": {
        "id": "Y09w4GeuKYuT"
      },
      "outputs": [],
      "source": [
        "texts = []\n",
        "labels = []\n",
        "\n",
        "\n",
        "for idx in range(df.message.shape[0]):\n",
        "    text = BeautifulSoup(df.message[idx])\n",
        "    texts.append(clean_str(str(text.get_text().encode())))\n",
        "\n",
        "for idx in df['class']:\n",
        "    labels.append(idx)"
      ]
    },
    {
      "cell_type": "code",
      "execution_count": null,
      "metadata": {
        "colab": {
          "base_uri": "https://localhost:8080/"
        },
        "id": "V4KRLKvPKd1R",
        "outputId": "6a820d9d-32e3-4691-e80c-95cd57eb4aa8"
      },
      "outputs": [
        {
          "output_type": "stream",
          "name": "stdout",
          "text": [
            "Number of Unique Tokens 79395\n"
          ]
        }
      ],
      "source": [
        "tokenizer = Tokenizer(num_words=MAX_NB_WORDS)\n",
        "tokenizer.fit_on_texts(texts)\n",
        "sequences = tokenizer.texts_to_sequences(texts)\n",
        "\n",
        "word_index = tokenizer.word_index\n",
        "\n",
        "print('Number of Unique Tokens',len(word_index))"
      ]
    },
    {
      "cell_type": "code",
      "execution_count": null,
      "metadata": {
        "colab": {
          "base_uri": "https://localhost:8080/"
        },
        "id": "RnjM0mCxKyVi",
        "outputId": "1a5fa02a-2e35-42d2-eaf7-b7cee3aab8ac"
      },
      "outputs": [
        {
          "output_type": "stream",
          "name": "stdout",
          "text": [
            "Shape of Data Tensor: (23004, 1000)\n",
            "Shape of Label Tensor: (23004, 2)\n"
          ]
        }
      ],
      "source": [
        "data = pad_sequences(sequences, maxlen=MAX_SEQUENCE_LENGTH)\n",
        "\n",
        "\n",
        "labels = to_categorical(np.asarray(labels))\n",
        "print('Shape of Data Tensor:', data.shape)\n",
        "print('Shape of Label Tensor:', labels.shape)\n",
        "\n",
        "indices = np.arange(data.shape[0])\n",
        "np.random.shuffle(indices)\n",
        "data = data[indices]\n",
        "labels = labels[indices]\n",
        "nb_validation_samples = int(VALIDATION_SPLIT * data.shape[0])\n",
        "\n",
        "x_train = data[:-nb_validation_samples]\n",
        "y_train = labels[:-nb_validation_samples]\n",
        "x_val = data[-nb_validation_samples:]\n",
        "y_val = labels[-nb_validation_samples:]\n"
      ]
    },
    {
      "cell_type": "code",
      "source": [
        "labels"
      ],
      "metadata": {
        "colab": {
          "base_uri": "https://localhost:8080/"
        },
        "id": "4p3VWF7f5_TY",
        "outputId": "1907f09f-1990-4ce9-b9b6-ce46eb2408b6"
      },
      "execution_count": null,
      "outputs": [
        {
          "output_type": "execute_result",
          "data": {
            "text/plain": [
              "array([[1., 0.],\n",
              "       [1., 0.],\n",
              "       [0., 1.],\n",
              "       ...,\n",
              "       [1., 0.],\n",
              "       [1., 0.],\n",
              "       [0., 1.]], dtype=float32)"
            ]
          },
          "metadata": {},
          "execution_count": 39
        }
      ]
    },
    {
      "cell_type": "code",
      "execution_count": null,
      "metadata": {
        "colab": {
          "base_uri": "https://localhost:8080/"
        },
        "id": "c0aypSbJK_yN",
        "outputId": "8d7cfe6d-d8cf-4665-c9a9-b623623feefc"
      },
      "outputs": [
        {
          "output_type": "stream",
          "name": "stdout",
          "text": [
            "Total 44276 word vectors in Glove 6B 25d.\n"
          ]
        }
      ],
      "source": [
        "embeddings_index = {}\n",
        "f = open('drive/MyDrive/glove.twitter.27B.25d.txt',encoding='utf8')\n",
        "for line in f:\n",
        "    values = line.split()\n",
        "    word = values[0]\n",
        "    coefs = np.asarray(values[1:], dtype='float32')\n",
        "    embeddings_index[word] = coefs\n",
        "f.close()\n",
        "\n",
        "print('Total %s word vectors in Glove 6B 25d.' % len(embeddings_index))"
      ]
    },
    {
      "cell_type": "code",
      "execution_count": null,
      "metadata": {
        "id": "HQIY5wTZLDyT"
      },
      "outputs": [],
      "source": [
        "embedding_matrix = np.random.random((len(word_index) + 1, EMBEDDING_DIM))\n",
        "for word, i in word_index.items():\n",
        "    embedding_vector = embeddings_index.get(word)\n",
        "    if embedding_vector is not None:\n",
        "        # words not found in embedding index will be all-zeros.\n",
        "        embedding_matrix[i] = embedding_vector"
      ]
    },
    {
      "cell_type": "code",
      "execution_count": null,
      "metadata": {
        "id": "xKuWSVHcLVDM"
      },
      "outputs": [],
      "source": [
        "embedding_layer = Embedding(len(word_index) + 1,\n",
        "                            EMBEDDING_DIM,\n",
        "                            weights=[embedding_matrix],\n",
        "                            input_length=MAX_SEQUENCE_LENGTH,\n",
        "                            trainable=True)"
      ]
    },
    {
      "cell_type": "code",
      "execution_count": null,
      "metadata": {
        "colab": {
          "base_uri": "https://localhost:8080/"
        },
        "id": "eExWnv0ALYaG",
        "outputId": "d9093e1d-6d59-4617-806d-285efdb9580e"
      },
      "outputs": [
        {
          "output_type": "stream",
          "name": "stdout",
          "text": [
            "Bidirectional LSTM\n",
            "Model: \"model_1\"\n",
            "_________________________________________________________________\n",
            " Layer (type)                Output Shape              Param #   \n",
            "=================================================================\n",
            " input_2 (InputLayer)        [(None, 1000)]            0         \n",
            "                                                                 \n",
            " embedding_1 (Embedding)     (None, 1000, 25)          1984900   \n",
            "                                                                 \n",
            " bidirectional_1 (Bidirectio  (None, 200)              100800    \n",
            " nal)                                                            \n",
            "                                                                 \n",
            " dense_1 (Dense)             (None, 2)                 402       \n",
            "                                                                 \n",
            "=================================================================\n",
            "Total params: 2,086,102\n",
            "Trainable params: 2,086,102\n",
            "Non-trainable params: 0\n",
            "_________________________________________________________________\n"
          ]
        }
      ],
      "source": [
        "sequence_input = Input(shape=(MAX_SEQUENCE_LENGTH,), dtype='int32')\n",
        "embedded_sequences = embedding_layer(sequence_input)\n",
        "l_lstm = Bidirectional(LSTM(100))(embedded_sequences)\n",
        "preds = Dense(len(macronum), activation='softmax')(l_lstm)\n",
        "model = Model(sequence_input, preds)\n",
        "model.compile(loss='categorical_crossentropy',\n",
        "              optimizer='rmsprop',\n",
        "              metrics=['acc'])\n",
        "\n",
        "print(\"Bidirectional LSTM\")\n",
        "model.summary()"
      ]
    },
    {
      "cell_type": "code",
      "execution_count": null,
      "metadata": {
        "colab": {
          "base_uri": "https://localhost:8080/"
        },
        "id": "S4xfBNtKLdD2",
        "outputId": "6f3a2afe-af2b-4079-f9bd-97098472bbab"
      },
      "outputs": [
        {
          "output_type": "stream",
          "name": "stdout",
          "text": [
            "Epoch 1/15\n",
            "576/576 [==============================] - ETA: 0s - loss: 0.6948 - acc: 0.5214\n",
            "Epoch 1: val_acc improved from -inf to 0.52370, saving model to 25_PJ_model_rnn1.hdf5\n",
            "576/576 [==============================] - 47s 74ms/step - loss: 0.6948 - acc: 0.5214 - val_loss: 0.6943 - val_acc: 0.5237\n",
            "Epoch 2/15\n",
            "576/576 [==============================] - ETA: 0s - loss: 0.6712 - acc: 0.5867\n",
            "Epoch 2: val_acc improved from 0.52370 to 0.59522, saving model to 25_PJ_model_rnn1.hdf5\n",
            "576/576 [==============================] - 41s 70ms/step - loss: 0.6712 - acc: 0.5867 - val_loss: 0.6663 - val_acc: 0.5952\n",
            "Epoch 3/15\n",
            "576/576 [==============================] - ETA: 0s - loss: 0.6133 - acc: 0.6669\n",
            "Epoch 3: val_acc improved from 0.59522 to 0.64565, saving model to 25_PJ_model_rnn1.hdf5\n",
            "576/576 [==============================] - 41s 71ms/step - loss: 0.6133 - acc: 0.6669 - val_loss: 0.6535 - val_acc: 0.6457\n",
            "Epoch 4/15\n",
            "576/576 [==============================] - ETA: 0s - loss: 0.5461 - acc: 0.7245\n",
            "Epoch 4: val_acc improved from 0.64565 to 0.65370, saving model to 25_PJ_model_rnn1.hdf5\n",
            "576/576 [==============================] - 41s 71ms/step - loss: 0.5461 - acc: 0.7245 - val_loss: 0.6427 - val_acc: 0.6537\n",
            "Epoch 5/15\n",
            "576/576 [==============================] - ETA: 0s - loss: 0.4956 - acc: 0.7611\n",
            "Epoch 5: val_acc improved from 0.65370 to 0.67435, saving model to 25_PJ_model_rnn1.hdf5\n",
            "576/576 [==============================] - 41s 71ms/step - loss: 0.4956 - acc: 0.7611 - val_loss: 0.5937 - val_acc: 0.6743\n",
            "Epoch 6/15\n",
            "576/576 [==============================] - ETA: 0s - loss: 0.4573 - acc: 0.7856\n",
            "Epoch 6: val_acc improved from 0.67435 to 0.69804, saving model to 25_PJ_model_rnn1.hdf5\n",
            "576/576 [==============================] - 40s 70ms/step - loss: 0.4573 - acc: 0.7856 - val_loss: 0.5933 - val_acc: 0.6980\n",
            "Epoch 7/15\n",
            "576/576 [==============================] - ETA: 0s - loss: 0.4246 - acc: 0.8100\n",
            "Epoch 7: val_acc improved from 0.69804 to 0.71217, saving model to 25_PJ_model_rnn1.hdf5\n",
            "576/576 [==============================] - 40s 69ms/step - loss: 0.4246 - acc: 0.8100 - val_loss: 0.6584 - val_acc: 0.7122\n",
            "Epoch 8/15\n",
            "576/576 [==============================] - ETA: 0s - loss: 0.4066 - acc: 0.8144\n",
            "Epoch 8: val_acc did not improve from 0.71217\n",
            "576/576 [==============================] - 40s 70ms/step - loss: 0.4066 - acc: 0.8144 - val_loss: 0.6271 - val_acc: 0.7104\n",
            "Epoch 9/15\n",
            "576/576 [==============================] - ETA: 0s - loss: 0.3919 - acc: 0.8308\n",
            "Epoch 9: val_acc did not improve from 0.71217\n",
            "576/576 [==============================] - 40s 69ms/step - loss: 0.3919 - acc: 0.8308 - val_loss: 0.6424 - val_acc: 0.7046\n",
            "Epoch 10/15\n",
            "576/576 [==============================] - ETA: 0s - loss: 0.3471 - acc: 0.8508\n",
            "Epoch 10: val_acc did not improve from 0.71217\n",
            "576/576 [==============================] - 40s 69ms/step - loss: 0.3471 - acc: 0.8508 - val_loss: 0.6379 - val_acc: 0.7085\n",
            "Epoch 11/15\n",
            "576/576 [==============================] - ETA: 0s - loss: 0.3436 - acc: 0.8535\n",
            "Epoch 11: val_acc improved from 0.71217 to 0.71739, saving model to 25_PJ_model_rnn1.hdf5\n",
            "576/576 [==============================] - 41s 71ms/step - loss: 0.3436 - acc: 0.8535 - val_loss: 0.6214 - val_acc: 0.7174\n",
            "Epoch 12/15\n",
            "576/576 [==============================] - ETA: 0s - loss: 0.3046 - acc: 0.8746\n",
            "Epoch 12: val_acc improved from 0.71739 to 0.71870, saving model to 25_PJ_model_rnn1.hdf5\n",
            "576/576 [==============================] - 41s 71ms/step - loss: 0.3046 - acc: 0.8746 - val_loss: 0.6439 - val_acc: 0.7187\n",
            "Epoch 13/15\n",
            "576/576 [==============================] - ETA: 0s - loss: 0.2754 - acc: 0.8873\n",
            "Epoch 13: val_acc did not improve from 0.71870\n",
            "576/576 [==============================] - 40s 70ms/step - loss: 0.2754 - acc: 0.8873 - val_loss: 0.7002 - val_acc: 0.7007\n",
            "Epoch 14/15\n",
            "576/576 [==============================] - ETA: 0s - loss: 0.2505 - acc: 0.9008\n",
            "Epoch 14: val_acc did not improve from 0.71870\n",
            "576/576 [==============================] - 40s 70ms/step - loss: 0.2505 - acc: 0.9008 - val_loss: 0.8031 - val_acc: 0.7170\n",
            "Epoch 15/15\n",
            "576/576 [==============================] - ETA: 0s - loss: 0.2195 - acc: 0.9139\n",
            "Epoch 15: val_acc did not improve from 0.71870\n",
            "576/576 [==============================] - 40s 69ms/step - loss: 0.2195 - acc: 0.9139 - val_loss: 0.8002 - val_acc: 0.6917\n"
          ]
        }
      ],
      "source": [
        "cp=ModelCheckpoint('25_PJ_model_rnn1.hdf5',monitor='val_acc',verbose=1,save_best_only=True)\n",
        "history=model.fit(x_train, y_train, validation_data=(x_val, y_val),epochs=15, batch_size=32,callbacks=[cp])"
      ]
    },
    {
      "cell_type": "code",
      "execution_count": null,
      "metadata": {
        "id": "qM-5003zLm4R",
        "colab": {
          "base_uri": "https://localhost:8080/",
          "height": 302
        },
        "outputId": "a40b6699-6140-4d6b-e4ba-2699ffa4b3fd"
      },
      "outputs": [
        {
          "output_type": "display_data",
          "data": {
            "text/plain": [
              "<Figure size 432x288 with 1 Axes>"
            ],
            "image/png": "[encoded data removed]"
          },
          "metadata": {
            "needs_background": "light"
          }
        }
      ],
      "source": [
        "fig1 = plt.figure()\n",
        "plt.plot(history.history['loss'],'r',linewidth=3.0)\n",
        "plt.plot(history.history['val_loss'],'b',linewidth=3.0)\n",
        "plt.legend(['Training loss', 'Validation Loss'],fontsize=18)\n",
        "plt.xlabel('Epochs ',fontsize=16)\n",
        "plt.ylabel('Loss',fontsize=16)\n",
        "plt.title('Loss Curves :RNN',fontsize=16)\n",
        "fig1.savefig('loss_rnn.png')\n",
        "plt.show()"
      ]
    },
    {
      "cell_type": "code",
      "execution_count": null,
      "metadata": {
        "id": "jlOpvtLtVNx5",
        "colab": {
          "base_uri": "https://localhost:8080/",
          "height": 302
        },
        "outputId": "1e3c14d6-88b7-4f62-993f-40a7f98cb061"
      },
      "outputs": [
        {
          "output_type": "display_data",
          "data": {
            "text/plain": [
              "<Figure size 432x288 with 1 Axes>"
            ],
            "image/png": "[encoded data removed]"
          },
          "metadata": {
            "needs_background": "light"
          }
        }
      ],
      "source": [
        "fig2=plt.figure()\n",
        "plt.plot(history.history['acc'],'r',linewidth=3.0)\n",
        "plt.plot(history.history['val_acc'],'b',linewidth=3.0)\n",
        "plt.legend(['Training Accuracy', 'Validation Accuracy'],fontsize=18)\n",
        "plt.xlabel('Epochs ',fontsize=16)\n",
        "plt.ylabel('Accuracy',fontsize=16)\n",
        "plt.title('Accuracy Curves : RNN',fontsize=16)\n",
        "fig2.savefig('accuracy_rnn.png')\n",
        "plt.show()"
      ]
    },
    {
      "cell_type": "code",
      "execution_count": null,
      "metadata": {
        "id": "VSLWHsVmkr-8",
        "colab": {
          "base_uri": "https://localhost:8080/",
          "height": 422
        },
        "outputId": "11ef0382-5f3d-423b-cc19-f109a85ff686"
      },
      "outputs": [
        {
          "output_type": "execute_result",
          "data": {
            "text/plain": [
              "<IPython.core.display.Image object>"
            ],
            "image/png": "[encoded data removed]"
          },
          "metadata": {},
          "execution_count": 47
        }
      ],
      "source": [
        "from keras.utils.vis_utils import plot_model\n",
        "plot_model(model, to_file='rnn_model.png', show_shapes=True, show_layer_names=True)"
      ]
    },
    {
      "cell_type": "code",
      "execution_count": null,
      "metadata": {
        "id": "22B4674Rkwko",
        "colab": {
          "base_uri": "https://localhost:8080/",
          "height": 422
        },
        "outputId": "fab0219a-228b-40c4-99e0-2d942c3104e4"
      },
      "outputs": [
        {
          "output_type": "display_data",
          "data": {
            "text/plain": [
              "<PIL.PngImagePlugin.PngImageFile image mode=RGB size=561x405 at 0x7F6E128E3E10>"
            ],
            "image/png": "[encoded data removed]"
          },
          "metadata": {}
        }
      ],
      "source": [
        "from PIL import Image\n",
        "display(Image.open('rnn_model.png'))"
      ]
    },
    {
      "cell_type": "code",
      "execution_count": null,
      "metadata": {
        "id": "zdU_K2hMomOJ"
      },
      "outputs": [],
      "source": [
        ""
      ]
    }
  ],
  "metadata": {
    "accelerator": "GPU",
    "colab": {
      "collapsed_sections": [],
      "machine_shape": "hm",
      "name": "RNN.ipynb",
      "provenance": []
    },
    "kernelspec": {
      "display_name": "Python 3",
      "name": "python3"
    }
  },
  "nbformat": 4,
  "nbformat_minor": 0
}