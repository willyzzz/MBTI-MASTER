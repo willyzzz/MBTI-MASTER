{
  "cells": [
    {
      "cell_type": "code",
      "execution_count": null,
      "metadata": {
        "id": "-YibpL3v8Sf8"
      },
      "outputs": [],
      "source": [
        "import numpy as np\n",
        "import pandas as pd\n",
        "import pickle\n",
        "from collections import defaultdict\n",
        "import re\n",
        "from bs4 import BeautifulSoup\n",
        "import sys\n",
        "import os\n",
        "os.environ['KERAS_BACKEND']='theano' # Why theano why not\n",
        "from keras.preprocessing.text import Tokenizer\n",
        "from keras.preprocessing.sequence import pad_sequences\n",
        "from keras.utils.np_utils import to_categorical\n",
        "from keras.layers import Embedding\n",
        "from keras.layers import Dense, Input, Flatten\n",
        "from keras.layers import Conv1D, MaxPooling1D, Embedding, Dropout\n",
        "from keras.models import Model\n",
        "from keras.callbacks import ModelCheckpoint\n",
        "import matplotlib.pyplot as plt\n",
        "plt.switch_backend('agg')\n",
        "%matplotlib inline"
      ]
    },
    {
      "cell_type": "code",
      "execution_count": null,
      "metadata": {
        "id": "n8z5XNCd99Vt"
      },
      "outputs": [],
      "source": [
        "def clean_str(string):\n",
        "    string = re.sub(r\"\\\\\", \"\", string)\n",
        "    string = re.sub(r\"\\'\", \"\", string)\n",
        "    string = re.sub(r\"\\\"\", \"\", string)\n",
        "    return string.strip().lower()"
      ]
    },
    {
      "cell_type": "code",
      "execution_count": null,
      "metadata": {
        "id": "LG-0Ij2V-Bjl"
      },
      "outputs": [],
      "source": [
        "MAX_SEQUENCE_LENGTH = 1000\n",
        "MAX_NB_WORDS = 20000\n",
        "EMBEDDING_DIM = 100\n",
        "VALIDATION_SPLIT = 0.2"
      ]
    },
    {
      "cell_type": "code",
      "execution_count": null,
      "metadata": {
        "colab": {
          "base_uri": "https://localhost:8080/"
        },
        "id": "dIw8G80g6x2n",
        "outputId": "d2e6155a-5580-4099-ff31-caa5e6068751"
      },
      "outputs": [
        {
          "name": "stderr",
          "output_type": "stream",
          "text": [
            "/usr/local/lib/python3.7/dist-packages/IPython/core/interactiveshell.py:2882: FutureWarning: The error_bad_lines argument has been deprecated and will be removed in a future version.\n",
            "\n",
            "\n",
            "  exec(code_obj, self.user_global_ns, self.user_ns)\n",
            "Skipping line 4160: unexpected end of data\n"
          ]
        }
      ],
      "source": [
        "df = pd.read_csv('preprocess_data.txt',delimiter=',',engine='python',error_bad_lines=False)"
      ]
    },
    {
      "cell_type": "code",
      "execution_count": null,
      "metadata": {
        "colab": {
          "base_uri": "https://localhost:8080/"
        },
        "id": "xU-Gzp5X-G0_",
        "outputId": "4dbb9223-adeb-49f3-cb5f-fb92f3139293"
      },
      "outputs": [
        {
          "name": "stdout",
          "output_type": "stream",
          "text": [
            "Shape of dataset  (4158, 5)\n",
            "Index(['Unnamed: 0', 'Unnamed: 0.1', 'Name', 'Type', 'Text'], dtype='object')\n",
            "No. of unique classes 16\n"
          ]
        }
      ],
      "source": [
        "# reading data\n",
        "\n",
        "df = df.dropna()\n",
        "df = df.reset_index(drop=True)\n",
        "print('Shape of dataset ',df.shape)\n",
        "print(df.columns)\n",
        "df['class'] = df['Type']\n",
        "print('No. of unique classes',len(set(df['class'])))"
      ]
    },
    {
      "cell_type": "code",
      "execution_count": null,
      "metadata": {
        "id": "yTg_bT92-Lmu"
      },
      "outputs": [],
      "source": [
        "macronum=sorted(set(df['class']))\n",
        "macro_to_id = dict((note, number) for number, note in enumerate(macronum))\n",
        "\n",
        "def fun(i):\n",
        "    return macro_to_id[i]\n",
        "\n",
        "df['class']=df['class'].apply(fun)"
      ]
    },
    {
      "cell_type": "code",
      "execution_count": null,
      "metadata": {
        "id": "1iuuRu3z-dUl"
      },
      "outputs": [],
      "source": [
        "texts = []\n",
        "labels = []\n",
        "df['message'] = df['Type']\n",
        "for idx in range(df.message.shape[0]):\n",
        "    text = BeautifulSoup(df.message[idx])\n",
        "    texts.append(clean_str(str(text.get_text().encode())))\n",
        "\n",
        "for idx in df['class']:\n",
        "    labels.append(idx)"
      ]
    },
    {
      "cell_type": "code",
      "execution_count": null,
      "metadata": {
        "colab": {
          "base_uri": "https://localhost:8080/"
        },
        "id": "UybzQTeT-jGj",
        "outputId": "48e12add-e020-4acb-f5b8-447767e2118a"
      },
      "outputs": [
        {
          "name": "stdout",
          "output_type": "stream",
          "text": [
            "Number of Unique Tokens 16\n"
          ]
        }
      ],
      "source": [
        "tokenizer = Tokenizer(num_words=MAX_NB_WORDS)\n",
        "tokenizer.fit_on_texts(texts)\n",
        "sequences = tokenizer.texts_to_sequences(texts)\n",
        "\n",
        "word_index = tokenizer.word_index\n",
        "print('Number of Unique Tokens',len(word_index))"
      ]
    },
    {
      "cell_type": "code",
      "execution_count": null,
      "metadata": {
        "colab": {
          "base_uri": "https://localhost:8080/"
        },
        "id": "lammuHZ3-puo",
        "outputId": "f49bd1ca-9dae-414a-af99-a57f676850f2"
      },
      "outputs": [
        {
          "name": "stdout",
          "output_type": "stream",
          "text": [
            "Shape of Data Tensor: (4158, 1000)\n",
            "Shape of Label Tensor: (4158, 16)\n"
          ]
        }
      ],
      "source": [
        "data = pad_sequences(sequences, maxlen=MAX_SEQUENCE_LENGTH)\n",
        "\n",
        "labels = to_categorical(np.asarray(labels))\n",
        "print('Shape of Data Tensor:', data.shape)\n",
        "print('Shape of Label Tensor:', labels.shape)\n",
        "\n",
        "indices = np.arange(data.shape[0])\n",
        "np.random.shuffle(indices)\n",
        "data = data[indices]\n",
        "labels = labels[indices]\n",
        "nb_validation_samples = int(VALIDATION_SPLIT * data.shape[0])\n",
        "\n",
        "x_train = data[:-nb_validation_samples]\n",
        "y_train = labels[:-nb_validation_samples]\n",
        "x_val = data[-nb_validation_samples:]\n",
        "y_val = labels[-nb_validation_samples:]"
      ]
    },
    {
      "cell_type": "code",
      "execution_count": null,
      "metadata": {
        "colab": {
          "base_uri": "https://localhost:8080/"
        },
        "id": "1cia1lKp8YN2",
        "outputId": "ac73289f-9fde-45f0-ff09-bd791b7cdf0c"
      },
      "outputs": [
        {
          "name": "stdout",
          "output_type": "stream",
          "text": [
            "Total 1225 word vectors in Glove 6B 100d.\n"
          ]
        }
      ],
      "source": [
        "embeddings_index = {}\n",
        "f = open('glove.6B.100d.txt',encoding='utf8')\n",
        "for line in f:\n",
        "    values = line.split()\n",
        "    word = values[0]\n",
        "    coefs = np.asarray(values[1:], dtype='float32')\n",
        "    embeddings_index[word] = coefs\n",
        "f.close()\n",
        "\n",
        "print('Total %s word vectors in Glove 6B 100d.' % len(embeddings_index))"
      ]
    },
    {
      "cell_type": "code",
      "execution_count": null,
      "metadata": {
        "id": "mvbOk28C-ywX"
      },
      "outputs": [],
      "source": [
        "embedding_matrix = np.random.random((len(word_index) + 1, EMBEDDING_DIM))\n",
        "for word, i in word_index.items():\n",
        "    embedding_vector = embeddings_index.get(word)\n",
        "    if embedding_vector is not None:\n",
        "        # words not found in embedding index will be all-zeros.\n",
        "        embedding_matrix[i] = embedding_vector\n",
        "\n",
        "embedding_layer = Embedding(len(word_index) + 1,\n",
        "                            EMBEDDING_DIM,weights=[embedding_matrix],\n",
        "                            input_length=MAX_SEQUENCE_LENGTH,trainable=True)"
      ]
    },
    {
      "cell_type": "code",
      "execution_count": null,
      "metadata": {
        "colab": {
          "base_uri": "https://localhost:8080/"
        },
        "id": "WWAEbYKN-5dL",
        "outputId": "39d71e41-253d-4c4e-9b78-bb3326ef4a46"
      },
      "outputs": [
        {
          "name": "stdout",
          "output_type": "stream",
          "text": [
            "Simplified convolutional neural network\n",
            "Model: \"model\"\n",
            "_________________________________________________________________\n",
            " Layer (type)                Output Shape              Param #   \n",
            "=================================================================\n",
            " input_1 (InputLayer)        [(None, 1000)]            0         \n",
            "                                                                 \n",
            " embedding (Embedding)       (None, 1000, 100)         1700      \n",
            "                                                                 \n",
            " conv1d (Conv1D)             (None, 996, 128)          64128     \n",
            "                                                                 \n",
            " max_pooling1d (MaxPooling1D  (None, 199, 128)         0         \n",
            " )                                                               \n",
            "                                                                 \n",
            " conv1d_1 (Conv1D)           (None, 195, 128)          82048     \n",
            "                                                                 \n",
            " max_pooling1d_1 (MaxPooling  (None, 39, 128)          0         \n",
            " 1D)                                                             \n",
            "                                                                 \n",
            " conv1d_2 (Conv1D)           (None, 35, 128)           82048     \n",
            "                                                                 \n",
            " max_pooling1d_2 (MaxPooling  (None, 1, 128)           0         \n",
            " 1D)                                                             \n",
            "                                                                 \n",
            " flatten (Flatten)           (None, 128)               0         \n",
            "                                                                 \n",
            " dense (Dense)               (None, 128)               16512     \n",
            "                                                                 \n",
            " dense_1 (Dense)             (None, 16)                2064      \n",
            "                                                                 \n",
            "=================================================================\n",
            "Total params: 248,500\n",
            "Trainable params: 248,500\n",
            "Non-trainable params: 0\n",
            "_________________________________________________________________\n"
          ]
        }
      ],
      "source": [
        "sequence_input = Input(shape=(MAX_SEQUENCE_LENGTH,), dtype='int32')\n",
        "embedded_sequences = embedding_layer(sequence_input)\n",
        "l_cov1= Conv1D(128, 5, activation='relu')(embedded_sequences)\n",
        "l_pool1 = MaxPooling1D(5)(l_cov1)\n",
        "l_cov2 = Conv1D(128, 5, activation='relu')(l_pool1)\n",
        "l_pool2 = MaxPooling1D(5)(l_cov2)\n",
        "l_cov3 = Conv1D(128, 5, activation='relu')(l_pool2)\n",
        "l_pool3 = MaxPooling1D(35)(l_cov3)  # global max pooling\n",
        "l_flat = Flatten()(l_pool3)\n",
        "l_dense = Dense(128, activation='relu')(l_flat)\n",
        "preds = Dense(len(macronum), activation='softmax')(l_dense)\n",
        "\n",
        "model = Model(sequence_input, preds)\n",
        "model.compile(loss='categorical_crossentropy',\n",
        "              optimizer='rmsprop',\n",
        "              metrics=['acc'])\n",
        "\n",
        "print(\"Simplified convolutional neural network\")\n",
        "model.summary()\n",
        "cp=ModelCheckpoint('model_cnn.hdf5',monitor='val_acc',verbose=1,save_best_only=True)"
      ]
    },
    {
      "cell_type": "code",
      "execution_count": null,
      "metadata": {
        "colab": {
          "background_save": true,
          "base_uri": "https://localhost:8080/"
        },
        "id": "GET42RUmCG1s",
        "outputId": "56653f1c-6be8-4aff-939b-3ed9ffd12b4d"
      },
      "outputs": [
        {
          "name": "stdout",
          "output_type": "stream",
          "text": [
            "Epoch 1/15\n",
            "1664/1664 [==============================] - ETA: 0s - loss: 2.2615 - acc: 0.2435\n",
            "Epoch 1: val_acc improved from -inf to 0.23706, saving model to model_cnn.hdf5\n",
            "1664/1664 [==============================] - 17s 5ms/step - loss: 2.2615 - acc: 0.2435 - val_loss: 2.1881 - val_acc: 0.2371\n",
            "Epoch 2/15\n",
            "1652/1664 [============================>.] - ETA: 0s - loss: 2.2114 - acc: 0.2455\n",
            "Epoch 2: val_acc did not improve from 0.23706\n",
            "1664/1664 [==============================] - 7s 4ms/step - loss: 2.2126 - acc: 0.2453 - val_loss: 2.1788 - val_acc: 0.2371\n",
            "Epoch 3/15\n",
            "1659/1664 [============================>.] - ETA: 0s - loss: 2.2077 - acc: 0.2456\n",
            "Epoch 3: val_acc did not improve from 0.23706\n",
            "1664/1664 [==============================] - 7s 4ms/step - loss: 2.2083 - acc: 0.2453 - val_loss: 2.1786 - val_acc: 0.2371\n",
            "Epoch 4/15\n",
            "1662/1664 [============================>.] - ETA: 0s - loss: 2.2090 - acc: 0.2449\n",
            "Epoch 4: val_acc did not improve from 0.23706\n",
            "1664/1664 [==============================] - 7s 4ms/step - loss: 2.2085 - acc: 0.2453 - val_loss: 2.1786 - val_acc: 0.2371\n",
            "Epoch 5/15\n",
            "1662/1664 [============================>.] - ETA: 0s - loss: 2.2053 - acc: 0.2455\n",
            "Epoch 5: val_acc did not improve from 0.23706\n",
            "1664/1664 [==============================] - 7s 4ms/step - loss: 2.2056 - acc: 0.2453 - val_loss: 2.1784 - val_acc: 0.2371\n",
            "Epoch 6/15\n",
            "1661/1664 [============================>.] - ETA: 0s - loss: 2.2056 - acc: 0.2450\n",
            "Epoch 6: val_acc did not improve from 0.23706\n",
            "1664/1664 [==============================] - 7s 4ms/step - loss: 2.2060 - acc: 0.2453 - val_loss: 2.1783 - val_acc: 0.2371\n",
            "Epoch 7/15\n",
            "1652/1664 [============================>.] - ETA: 0s - loss: 2.2094 - acc: 0.2455\n",
            "Epoch 7: val_acc did not improve from 0.23706\n",
            "1664/1664 [==============================] - 7s 4ms/step - loss: 2.2079 - acc: 0.2453 - val_loss: 2.1862 - val_acc: 0.2371\n",
            "Epoch 8/15\n",
            "1657/1664 [============================>.] - ETA: 0s - loss: 2.2182 - acc: 0.2453\n",
            "Epoch 8: val_acc did not improve from 0.23706\n",
            "1664/1664 [==============================] - 7s 4ms/step - loss: 2.2197 - acc: 0.2453 - val_loss: 2.1977 - val_acc: 0.2371\n",
            "Epoch 9/15\n",
            "1660/1664 [============================>.] - ETA: 0s - loss: 2.2333 - acc: 0.2455\n",
            "Epoch 9: val_acc did not improve from 0.23706\n",
            "1664/1664 [==============================] - 7s 4ms/step - loss: 2.2322 - acc: 0.2453 - val_loss: 2.2070 - val_acc: 0.2371\n",
            "Epoch 10/15\n",
            "1653/1664 [============================>.] - ETA: 0s - loss: 2.2435 - acc: 0.2453\n",
            "Epoch 10: val_acc did not improve from 0.23706\n",
            "1664/1664 [==============================] - 7s 4ms/step - loss: 2.2443 - acc: 0.2453 - val_loss: 2.2168 - val_acc: 0.2371\n",
            "Epoch 11/15\n",
            "1659/1664 [============================>.] - ETA: 0s - loss: 2.2537 - acc: 0.2456\n",
            "Epoch 11: val_acc did not improve from 0.23706\n",
            "1664/1664 [==============================] - 7s 4ms/step - loss: 2.2564 - acc: 0.2453 - val_loss: 2.2261 - val_acc: 0.2371\n",
            "Epoch 12/15\n",
            "1663/1664 [============================>.] - ETA: 0s - loss: 2.2658 - acc: 0.2453\n",
            "Epoch 12: val_acc did not improve from 0.23706\n",
            "1664/1664 [==============================] - 7s 4ms/step - loss: 2.2668 - acc: 0.2453 - val_loss: 2.2336 - val_acc: 0.2371\n",
            "Epoch 13/15\n",
            "1657/1664 [============================>.] - ETA: 0s - loss: 2.2697 - acc: 0.2456\n",
            "Epoch 13: val_acc did not improve from 0.23706\n",
            "1664/1664 [==============================] - 7s 4ms/step - loss: 2.2717 - acc: 0.2453 - val_loss: 2.2407 - val_acc: 0.2371\n",
            "Epoch 14/15\n",
            "1654/1664 [============================>.] - ETA: 0s - loss: 2.2825 - acc: 0.2455\n",
            "Epoch 14: val_acc did not improve from 0.23706\n",
            "1664/1664 [==============================] - 7s 4ms/step - loss: 2.2807 - acc: 0.2453 - val_loss: 2.2440 - val_acc: 0.2371\n",
            "Epoch 15/15\n",
            "1664/1664 [==============================] - ETA: 0s - loss: 2.2834 - acc: 0.2453\n",
            "Epoch 15: val_acc did not improve from 0.23706\n",
            "1664/1664 [==============================] - 7s 4ms/step - loss: 2.2834 - acc: 0.2453 - val_loss: 2.2477 - val_acc: 0.2371\n"
          ]
        }
      ],
      "source": [
        "history=model.fit(x_train, y_train, validation_data=(x_val, y_val),epochs=15, batch_size=2,callbacks=[cp])"
      ]
    },
    {
      "cell_type": "code",
      "execution_count": null,
      "metadata": {
        "colab": {
          "background_save": true
        },
        "id": "Hw6nPvUG_js0",
        "outputId": "7e352389-99b7-49b7-ad46-faf6bb94ccfb"
      },
      "outputs": [
        {
          "data": {
            "image/png": "[encoded data removed]",
            "text/plain": [
              "<Figure size 432x288 with 1 Axes>"
            ]
          },
          "metadata": {},
          "output_type": "display_data"
        }
      ],
      "source": [
        "fig1 = plt.figure()\n",
        "plt.plot(history.history['loss'],'r',linewidth=3.0)\n",
        "plt.plot(history.history['val_loss'],'b',linewidth=3.0)\n",
        "plt.legend(['Training loss', 'Validation Loss'],fontsize=18)\n",
        "plt.xlabel('Epochs ',fontsize=16)\n",
        "plt.ylabel('Loss',fontsize=16)\n",
        "plt.title('Loss Curves :CNN',fontsize=16)\n",
        "fig1.savefig('loss_cnn.png')\n",
        "plt.show()"
      ]
    },
    {
      "cell_type": "code",
      "execution_count": null,
      "metadata": {
        "colab": {
          "background_save": true
        },
        "id": "akd1Jx2a_kbh",
        "outputId": "fbe596d1-8740-42a7-f29a-9c74372e37e6"
      },
      "outputs": [
        {
          "data": {
            "image/png": "[encoded data removed]",
            "text/plain": [
              "<Figure size 432x288 with 1 Axes>"
            ]
          },
          "metadata": {},
          "output_type": "display_data"
        }
      ],
      "source": [
        "fig2=plt.figure()\n",
        "plt.plot(history.history['acc'],'r',linewidth=3.0)\n",
        "plt.plot(history.history['val_acc'],'b',linewidth=3.0)\n",
        "plt.legend(['Training Accuracy', 'Validation Accuracy'],fontsize=18)\n",
        "plt.xlabel('Epochs ',fontsize=16)\n",
        "plt.ylabel('Accuracy',fontsize=16)\n",
        "plt.title('Accuracy Curves : CNN',fontsize=16)\n",
        "fig2.savefig('accuracy_cnn.png')\n",
        "plt.show()"
      ]
    },
    {
      "cell_type": "code",
      "execution_count": null,
      "metadata": {
        "colab": {
          "background_save": true
        },
        "id": "BH5VmVtmf9_R"
      },
      "outputs": [],
      "source": [
        "#from keras.utils.vis_utils import plot_model\n",
        "#plot_model(model, to_file='cnn_model.png', show_shapes=True, show_layer_names=True)"
      ]
    },
    {
      "cell_type": "code",
      "execution_count": null,
      "metadata": {
        "colab": {
          "background_save": true
        },
        "id": "UBo-Zv-WkcHJ",
        "outputId": "395952ae-79e2-4dff-9bca-23c2152937e2"
      },
      "outputs": [
        {
          "ename": "FileNotFoundError",
          "evalue": "ignored",
          "output_type": "error",
          "traceback": [
            "\u001b[0;31m---------------------------------------------------------------------------\u001b[0m",
            "\u001b[0;31mFileNotFoundError\u001b[0m                         Traceback (most recent call last)",
            "\u001b[0;32m<ipython-input-17-cfae0fc83ee9>\u001b[0m in \u001b[0;36m<module>\u001b[0;34m()\u001b[0m\n\u001b[1;32m      1\u001b[0m \u001b[0;32mfrom\u001b[0m \u001b[0mPIL\u001b[0m \u001b[0;32mimport\u001b[0m \u001b[0mImage\u001b[0m\u001b[0;34m\u001b[0m\u001b[0;34m\u001b[0m\u001b[0m\n\u001b[0;32m----> 2\u001b[0;31m \u001b[0mdisplay\u001b[0m\u001b[0;34m(\u001b[0m\u001b[0mImage\u001b[0m\u001b[0;34m.\u001b[0m\u001b[0mopen\u001b[0m\u001b[0;34m(\u001b[0m\u001b[0;34m'cnn_model.png'\u001b[0m\u001b[0;34m)\u001b[0m\u001b[0;34m)\u001b[0m\u001b[0;34m\u001b[0m\u001b[0;34m\u001b[0m\u001b[0m\n\u001b[0m",
            "\u001b[0;32m/usr/local/lib/python3.7/dist-packages/PIL/Image.py\u001b[0m in \u001b[0;36mopen\u001b[0;34m(fp, mode)\u001b[0m\n\u001b[1;32m   2841\u001b[0m \u001b[0;34m\u001b[0m\u001b[0m\n\u001b[1;32m   2842\u001b[0m     \u001b[0;32mif\u001b[0m \u001b[0mfilename\u001b[0m\u001b[0;34m:\u001b[0m\u001b[0;34m\u001b[0m\u001b[0;34m\u001b[0m\u001b[0m\n\u001b[0;32m-> 2843\u001b[0;31m         \u001b[0mfp\u001b[0m \u001b[0;34m=\u001b[0m \u001b[0mbuiltins\u001b[0m\u001b[0;34m.\u001b[0m\u001b[0mopen\u001b[0m\u001b[0;34m(\u001b[0m\u001b[0mfilename\u001b[0m\u001b[0;34m,\u001b[0m \u001b[0;34m\"rb\"\u001b[0m\u001b[0;34m)\u001b[0m\u001b[0;34m\u001b[0m\u001b[0;34m\u001b[0m\u001b[0m\n\u001b[0m\u001b[1;32m   2844\u001b[0m         \u001b[0mexclusive_fp\u001b[0m \u001b[0;34m=\u001b[0m \u001b[0;32mTrue\u001b[0m\u001b[0;34m\u001b[0m\u001b[0;34m\u001b[0m\u001b[0m\n\u001b[1;32m   2845\u001b[0m \u001b[0;34m\u001b[0m\u001b[0m\n",
            "\u001b[0;31mFileNotFoundError\u001b[0m: [Errno 2] No such file or directory: 'cnn_model.png'"
          ]
        }
      ],
      "source": [
        "from PIL import Image\n",
        "display(Image.open('cnn_model.png'))"
      ]
    },
    {
      "cell_type": "code",
      "execution_count": null,
      "metadata": {
        "colab": {
          "background_save": true
        },
        "id": "Sdom4oW-mW1V"
      },
      "outputs": [],
      "source": [
        ""
      ]
    }
  ],
  "metadata": {
    "accelerator": "GPU",
    "colab": {
      "collapsed_sections": [],
      "machine_shape": "hm",
      "name": "CNN.ipynb",
      "provenance": []
    },
    "kernelspec": {
      "display_name": "Python 3",
      "name": "python3"
    }
  },
  "nbformat": 4,
  "nbformat_minor": 0
}